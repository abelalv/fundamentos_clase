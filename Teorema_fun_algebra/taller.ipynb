{
 "cells": [
  {
   "cell_type": "code",
   "execution_count": null,
   "metadata": {},
   "outputs": [],
   "source": []
  },
  {
   "cell_type": "markdown",
   "metadata": {},
   "source": [
    "# Terorema fundamental el algebra\n",
    "\n",
    "\n",
    "Observe que el polinomio \n",
    "\n",
    "\n",
    "$$p(x) = x^3-2x^2-x+2$$\n",
    "\n",
    "se puede factorizar y escribir como \n",
    "\n",
    "$$p(x) = (x-1)(x-2)(x+1)$$\n",
    "\n",
    "\n",
    "esto quiere decir que el polinomio $p(x)$ tiene tres raíces reales, que son $x=1$, $x=2$ y $x=-1$.\n",
    "\n",
    "**Nota** esto es equivalente a decir que $p(1)=p(2)=p(-1)=0$.\n",
    "\n",
    "Como podemos realizar la gráfica de este polinomio, \n",
    "\n",
    "1. Escribimos las raíces reales del polinomio en el eje x.\n",
    "\n",
    "2. Note que cuando $x$ es muy grande $p(x)$ es muy grande ¿Por qué?\n",
    "\n",
    "3. Note que cuando $x$ es muy pequeño $p(x)$ es muy pequeño ¿Por qué?\n",
    "\n",
    "4. Todos los valores de los polinomios esta definidos. Además, cuado es un polinomio podemos gráficar la función partiendo de un punto e unir los puntos con una línea continua, es decir \"no levantamos la punta del lápiz de la hoja\", Intente hacer esto con el polinomio $p(x)$.\n",
    "\n",
    "+ ¿ En que intervalos el polinomio es positivo?\n",
    "\n",
    "+ ¿ En que intervalos el polinomio es negativo?\n",
    "\n",
    "+ Realiza la grafica computacional y compara con la gráfica que realizaste a mano."
   ]
  },
  {
   "cell_type": "code",
   "execution_count": null,
   "metadata": {},
   "outputs": [],
   "source": []
  },
  {
   "cell_type": "markdown",
   "metadata": {},
   "source": [
    "## Ejercicio\n",
    "\n",
    "Repite el procedimiento para el polinomio $q(x) = x^3-3x^2-4x+12$ sabiendo que el polínomio se puede factorizar como $q(x) = (x-3)(x-2)(x+2)$."
   ]
  },
  {
   "cell_type": "code",
   "execution_count": null,
   "metadata": {},
   "outputs": [],
   "source": []
  },
  {
   "cell_type": "markdown",
   "metadata": {},
   "source": [
    "## Ejercicio\n",
    "\n",
    "Realizar el mismo procedimiento con el polinomio $r(x) = x^3-3x^2+x-3$, sabiendo que el polinomio se puede factorizar como $r(x) = (x-3)(x^2+1)$.\n",
    "**Note** que el polinomio solo tiene una raíz real.\n",
    "\n"
   ]
  },
  {
   "cell_type": "code",
   "execution_count": null,
   "metadata": {},
   "outputs": [],
   "source": []
  },
  {
   "cell_type": "markdown",
   "metadata": {},
   "source": [
    "Podemos observar que uno de los problemas más importnates es encontrar las raíces de los polinomios, con lo discutido anteriormente podemos concluir que \n",
    "\n",
    "**Si $x$ es una raíz de un polinomio es porque $p(x)=0$**.\n",
    "\n",
    "Por lo tanto, si queremos encontrar las raíces de un polinomio $p(x)$, debemos encontrar los valores de $x$ que hacen que $p(x)=0$, un método para encontrar las raíces de un polinomio es el \n",
    "\n",
    "1. encontrar una raíz del polinomio, es decir, encontrar un valor de $x_1$ tal que $p(x_1)=0$.\n",
    "\n",
    "2. Dividir el polinomio por $(x-x_1)$, es decir, realizar la división de polinomios.\n",
    "\n",
    "De esta forma podemos encontrar que el polinomio $p(x)$ se puede escribir como\n",
    "\n",
    "$$p(x) = (x-x_1)q(x)$$\n",
    "\n",
    "donde $q(x)$ es un polinomio de grado menor que $p(x)$.\n",
    "\n",
    "\n",
    "# Ejemplo\n",
    "\n",
    "Encuentre las raíces del polinomio $p(x) = x^3-2x^2-x+2$.\n",
    "\n",
    "Sabeos que el polinomio tiene raíces en $x=1$ puesto $p(1)=0$, ahora realizamos la división de polinomios\n",
    "\n",
    "$$p(x) = (x-1)q(x)$$\n",
    "\n",
    "donde $q(x)$ es un polinomio de grado dos, es decir, $q(x) = x^2-1x-2$.\n",
    "\n",
    "**Como encontramos $q(x)$?**\n",
    "\n",
    "en otras palabras\n",
    "\n",
    "$$p(x) = (x-1)(x^2-1x-2)$$\n",
    "\n",
    "Podemos encontrar una raíz de $q(x)$ y realizar el mismo procedimiento, es decir, encontrar una raíz de $q(x)$ y dividir $q(x)$ por $(x-x_2)$, donde $x_2$ es una raíz de $q(x)$.\n",
    "\n",
    "\n",
    "\n",
    "\n"
   ]
  },
  {
   "cell_type": "markdown",
   "metadata": {},
   "source": [
    "## teorema de residuos\n",
    "\n",
    "Un polinomio con coeficientes racionales el teorema de los ceros racionales que enuncia que si una ecuación polinomial tiene raíces racionales, estas raíces son de la forma $p/q$ donde $p$ es un divisor del término independiente y $q$ es un divisor del coeficiente del término de mayor grado.\n",
    "\n",
    "\n",
    "# Ejemplo\n",
    "\n",
    "Encuentre las raíces del polinomio $p(x) = 2x^4 +x^3 - 15x^2 - 7x + 7$\n",
    "$.       \n",
    "\n",
    "Los divisores del término independiente son $\\pm 1$ y $\\pm 7$, los divisores del coeficiente del término de mayor grado son $\\pm 1$ y $\\pm 2$,  por tanto si $p(x)$ tiene raíces racionales, estas son de la forma $p/q$, es decir la lista \n",
    "\n",
    "$$\\pm 1, \\pm 7, \\pm 1/2, \\pm 7/2$$\n",
    "\n",
    "\n",
    "# Ejercicio\n",
    "\n",
    "Evalua la lista de posibles raíces en el polinomio $p(x) = 2x^4 +x^3 - 15x^2 - 7x + 7$ y encuentra las raíces racionales  del polinomio, ¿Cuales son?\n",
    "\n",
    "\n",
    "# Ejercicio \n",
    "\n",
    "Busca en el reto5 que sección de código explica esto y ejecuta el código.\n",
    "\n",
    "# Ejercicio\n",
    "\n",
    "Encuentra las raíces racionales de los polinomios, si existen\n",
    "\n",
    "+ $p(x) = x^3-2x^2-x+2$\n",
    "\n",
    "+ $q(x) = x^3-3x^2-4x+12$\n",
    "\n",
    "+ $r(x) = x^4-3x^2+x-3$\n",
    "\n",
    "¿Qué otro procedimiento se te ocurre para encontrar las raíces de un polinomio?\n"
   ]
  }
 ],
 "metadata": {
  "kernelspec": {
   "display_name": "class",
   "language": "python",
   "name": "python3"
  },
  "language_info": {
   "codemirror_mode": {
    "name": "ipython",
    "version": 3
   },
   "file_extension": ".py",
   "mimetype": "text/x-python",
   "name": "python",
   "nbconvert_exporter": "python",
   "pygments_lexer": "ipython3",
   "version": "3.12.3"
  }
 },
 "nbformat": 4,
 "nbformat_minor": 2
}
