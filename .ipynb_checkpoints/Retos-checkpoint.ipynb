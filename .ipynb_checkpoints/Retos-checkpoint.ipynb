{
 "cells": [
  {
   "cell_type": "markdown",
   "metadata": {},
   "source": [
    "## Reto 1\n",
    "\n",
    "### Dinámica de reproducción de las ardillas\n"
   ]
  },
  {
   "cell_type": "markdown",
   "metadata": {},
   "source": [
    "También se está investigando el comportamiento de la población de ardillas rojas. Se ha inferido la siguiente información sobre la población actual de ardillas en las zonas bajo estudio:\n",
    "\n",
    "* Ardillas adultas (1 año o más): 6810.\n",
    "* Ardillas juveniles (26 a 52 semanas): 2470.\n",
    "* Ardillas crías (0 a 26 semanas): 3090.\n",
    "\n",
    "Adicionalmente, se ha encontrado la siguiente información sobre la especie:\n",
    "\n",
    "* **Proporción de género:** la proporción de machos a hembras es de uno a uno en todas las clases de edades (es decir, hay igual número de machos y hembras en cada grupo de edad).\n",
    "\n",
    "* **Ciclo reproductivo:** un ciclo reproductivo dura 26 semanas. Cada hembra adulta tiene dos crías por ciclo reproductivo.\n",
    "\n",
    "* **Supervivencia en el siguiente ciclo reproductivo:**\n",
    " + De las 3090 crías, 618 sobrevivieron y pasan a ser juveniles.\n",
    " + De las 2470 ardillas juveniles, 1729 sobrevivieron y pasan a ser adultas.\n",
    " + De las 6810 ardillas adultas, 5448 sobrevivieron.\n"
   ]
  },
  {
   "cell_type": "markdown",
   "metadata": {},
   "source": [
    "Con base en la información anterior y las herramientas computacionales brindadas por el lenguaje de programación Python, responda las siguientes preguntas.\n",
    "\n",
    "1. ¿Cuál es el porcentaje de supervivencia en cada grupo de edad?\n",
    "\n",
    "2. ¿Cuál es la población total de ardillas después del primer ciclo reproductivo?\n",
    "\n",
    "3. ¿Cuál es la población total de ardillas después de cinco ciclos reproductivos?\n",
    "\n",
    "4. Con base en las respuestas a las preguntas anteriores, ¿podría argumentar que la población de ardillas aumentaría, disminuiría o se mantendría estable después de varios ciclos reproductivos?\n",
    "\n",
    "5. Si el objetivo es mantener estable la población de ardillas en las zonas verdes bajo estudio, ¿qué acciones podrían sugerir los biólogos a la administración municipal para este fin? Explique qué entiende por \"mantener estable\".\n",
    "\n",
    "6. Con base en las proporciones inferidas, ¿cuál debió ser la población de ardillas, por grupo, antes del ciclo reprodictivo que dió lugar a la población inicialmente inferida?\n"
   ]
  },
  {
   "cell_type": "markdown",
   "metadata": {},
   "source": [
    "## Reto 2\n",
    "\n",
    "### Tanque esférico para almacenamiento de agua potable\n",
    "\n",
    "Buscando mejorar el acceso al agua potable de calidad en una zona rural muy aislada de Cali, se ha diseñado un tanque esférico que puede almacenar 10,000 litros de agua. Es crucial estimar el área superficial del tanque para planificar adecuadamente la construcción y los materiales necesarios."
   ]
  },
  {
   "cell_type": "markdown",
   "metadata": {},
   "source": [
    "Con base en la situación anterior y las herramientas computacionales ofrecidas por el lenguaje de programación Python, responda las siguientes preguntas.\n",
    "\n",
    "1. ¿Qué necesita conocer para determinar el área superficial del tanque?\n",
    "\n",
    "2. ¿Cuál es el área superficial del tanque esférico?\n",
    "\n",
    "3. ¿Cual es el diámetro de este tanque esférico?\n",
    "\n",
    "4. Con base en los resultados previos ¿Cómo se compara el área superficial del tanque esférico con la de un tanque cilíndrico de la misma capacidad? ¿Qué implicaciones tiene esto en términos de costos de material y mantenimiento? Suponiendo que el valor del material y el mantenimiento es el mismo en cada caso."
   ]
  },
  {
   "cell_type": "markdown",
   "metadata": {},
   "source": [
    "## Reto 3\n",
    "### Análisis de costos de mantenimiento y actualización de software a largo plazo"
   ]
  },
  {
   "cell_type": "markdown",
   "metadata": {},
   "source": [
    "Una empresa tiene dos equipos cuyos costos de mantenimiento anual aumentan cada año debido al desgaste y otros factores económicos. El costo inicial de mantenimiento del equipo de **Interprase** es de $\\$800.000$ y aumenta en  $\\$20000$ por  cada año. De manera similar, el costo inicial de mantenimiento del equipo de **Soluciones Express** es de $\\$1'100.000$ y aumenta en un $\\$ 400$ por cada año. Además, se espera que el costo de  actualización de software para ambas máquinas al inicio sea $\\$50.000$ y aumente en una relación $\\$2000$  y $\\$20$ por tiempo al cuadrado, respectivamente.\n",
    "\n",
    "\n"
   ]
  },
  {
   "cell_type": "markdown",
   "metadata": {},
   "source": [
    "\n",
    "1.  ¿Al cabo de cuántos años el costo anual de mantenimiento  del equipo ofrecido por  **Interprase**  es igual a 1'200.100?\n",
    "\n",
    "\n",
    "2. ¿Cómo  podemos representar este problema como una inecuación?\n",
    "\n",
    "3. ¿Durante cuántos años debe usarse el equipo de  **Interprase** para que  el costo anual de mantenimiento sea menor   que el del equipo de **Soluciones Express**?\n"
   ]
  },
  {
   "cell_type": "markdown",
   "metadata": {},
   "source": [
    "## Reto 4\n",
    "\n",
    "### Análisis del desgaste de material protector en un cable de comunicación"
   ]
  },
  {
   "cell_type": "markdown",
   "metadata": {},
   "source": [
    " Un cable de 100 metros de  largo y diámetro de 4 centímetros se sumerge en el agua del mar.  Debido a la\n",
    "corrosión, el área superficial del cable disminuye a razón de 750 centímetros  cuadrados por año.  Se sabe que la fórmula para el área superficial de un cilindro (ignorando las tapas superior e inferior) es $A=2\\pi rL$, donde $r$ es el radio del cilindro y $L$ es la longitud del cilindro. "
   ]
  },
  {
   "cell_type": "markdown",
   "metadata": {},
   "source": [
    "### Actividad\n",
    "\n",
    "1. Exprese el diámetro $d$ del  cable como función del tiempo, en años. (no prestar atención a la corrosión en los extremos del cable)\n",
    "\n",
    "2. Determine el tiempo en que el diámetro del cable es de 3 centímetros.\n",
    "\n",
    "3. ¿En cuanto tiempo el diámetro del cable llega a ser prácticamente cero?\n",
    "\n",
    "4. Suponga que  la tasa de desgaste o de corrosión es ahora de $750t$ centímetros cuadrados por año, donde $t$ es el tiempo en años. Exprese el diámetro $d$ del cable como una función del tiempo.\n",
    "\n",
    "5. ¿En cuanto tiempo se alcanza el diámetro óptimo del cable?"
   ]
  }
 ],
 "metadata": {
  "language_info": {
   "name": "python"
  }
 },
 "nbformat": 4,
 "nbformat_minor": 2
}
