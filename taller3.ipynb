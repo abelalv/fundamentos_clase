{
 "cells": [
  {
   "cell_type": "code",
   "execution_count": null,
   "metadata": {},
   "outputs": [],
   "source": []
  },
  {
   "cell_type": "markdown",
   "metadata": {},
   "source": [
    "# taller \n",
    "\n",
    "\n",
    "Factorizar\n",
    "\n",
    "1. $x^2+6x+8$\n",
    "2. $x^2-7x-18$\n",
    "3. $m^4-12m^2+27$\n",
    "4. $4w^2-20w-11$\n",
    "5. $16x^2+40x+25$\n",
    "6. $3x^2-5x-2$\n",
    "7. $6m^2-5m-25$\n",
    "8. $2x^2+7x-4$\n",
    "9. $6x^2-5x-4$\n",
    "10. $2x^2+5x+2$\n",
    "11. $x^2+6x+7$\n",
    "12. $x^2+4x+1$\n",
    "\n",
    "Simplificar si es posible\n",
    "\n",
    "14. $\\frac{3x^2-5x-2}{x^2+6x+8}$\n",
    "15. $\\frac{4x^2-20x-11}{2x^2+7x-4}$\n",
    "16. $\\frac{6x^2-5x-4}{2x^2+5x+2}$\n",
    "17. $\\frac{16x^2+40x+25}{4x^2+20x+25}$\n",
    "18. $\\frac{m^4-12m^2+27}{m^2-5m+6}$\n",
    "19. $\\frac{6m^2-5m-25}{3m^2-5m-2}$\n",
    "20. $\\frac{3x^2-5x-2}{x^2+4x+1}$\n"
   ]
  }
 ],
 "metadata": {
  "kernelspec": {
   "display_name": "class",
   "language": "python",
   "name": "python3"
  },
  "language_info": {
   "name": "python",
   "version": "3.12.3"
  }
 },
 "nbformat": 4,
 "nbformat_minor": 2
}
