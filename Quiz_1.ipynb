{
 "cells": [
  {
   "cell_type": "markdown",
   "metadata": {},
   "source": [
    "Pontificia universidad Javeriana - Cali\n",
    "\n",
    "Quiz 1\n",
    "\n",
    "31 de Julio de 2024\n",
    "\n",
    "Modelos Matemáticos Aplicados Fundamentos \n",
    "\n",
    "Nombre ____________________________________________ Código _____________ Carrera ___________\n",
    "\n",
    "## Instrucciones\n",
    "\n",
    "Lea cuidadosamente las siguientes los enunciados antes de comenzar el quiz. El celular debe estar apagado  y guardado en la maleta. No se permite el uso de correos electrónicos, navegadores, o software de cálculo simbólico. \n",
    "No se permite el uso de la calculadora.\n"
   ]
  },
  {
   "cell_type": "markdown",
   "metadata": {},
   "source": [
    "1. Tres amigos deciden jugar a la lotería y cada uno contribuye una cantidad diferente de dinero:\n",
    "\n",
    "    Amigo A aporta 400 pesos.\n",
    "    Amigo B aporta 600 pesos.\n",
    "    Amigo C aporta 1000 pesos.\n",
    "\n",
    "    Ellos tienen la buena suerte de ganan un premio de la lotería que corresponde a 120000, pero tiene que pagar un impuesto del 20% sobre el premio. Si quieren repartir el dinero de forma proporcional a la cantidad que aportaron inicialmente, ¿cuánto dinero le corresponde a cada uno después de pagar el impuesto?"
   ]
  },
  {
   "cell_type": "markdown",
   "metadata": {},
   "source": [
    "\n",
    "\n",
    "\n",
    "\n",
    "\n",
    "\n",
    "\n",
    "\n",
    "\n",
    "\n",
    "\n",
    "\n",
    "\n",
    "\n",
    "\n",
    "\n"
   ]
  },
  {
   "cell_type": "markdown",
   "metadata": {},
   "source": [
    "2. Encuentre el valor \n",
    "\n",
    "$$2\\left(\\frac{1}{2}-5\\Big(\\frac{-2}{3}+\\frac{1}{2}\\Big)\\right)+\\frac{1}{5}(1+\\frac{1}{3})$$"
   ]
  },
  {
   "cell_type": "markdown",
   "metadata": {},
   "source": [
    "\n",
    "\n",
    "\n",
    "\n",
    "\n",
    "\n"
   ]
  },
  {
   "cell_type": "markdown",
   "metadata": {},
   "source": [
    "3. Simplifique\n",
    "$$\\frac{\\sqrt[4]{m^3n^5}\\sqrt[5]{mn^2}}{\\sqrt[20]{m^{19}n^{13}}}$$"
   ]
  }
 ],
 "metadata": {
  "kernelspec": {
   "display_name": "Python 3",
   "language": "python",
   "name": "python3"
  },
  "language_info": {
   "codemirror_mode": {
    "name": "ipython",
    "version": 3
   },
   "file_extension": ".py",
   "mimetype": "text/x-python",
   "name": "python",
   "nbconvert_exporter": "python",
   "pygments_lexer": "ipython3",
   "version": "3.12.3"
  }
 },
 "nbformat": 4,
 "nbformat_minor": 2
}
