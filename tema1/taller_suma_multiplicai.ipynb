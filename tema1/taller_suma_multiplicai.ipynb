{
 "cells": [
  {
   "cell_type": "markdown",
   "metadata": {},
   "source": [
    "# Ejercicios"
   ]
  },
  {
   "cell_type": "markdown",
   "metadata": {},
   "source": [
    " Realiza la siguiente operación:\n",
    "\n",
    "\n",
    "\n",
    "-   $ (x^3 + 5x^2 - 7x + 4) + (2x^3 - 4x^2 + 9x - 3) $\n",
    "\n",
    "-   $ (2x - 1)(- 5x + 6) $\n",
    "\n",
    "    \n",
    "-    $ (2a^3 + a^2 - 1) + (6a^3 + 3a^2 - 5a + 2) $\n",
    "\n",
    "    \n",
    "-    $ (- 3b + 4)(- b + 1) $\n",
    "\n",
    "    \n",
    "-    $ (5x^3 + 7x^2-x + 1) - (3x^3 - 2x^2 + 4x - 5) $\n",
    "\n",
    "    \n",
    "-    $ (3y^2 + 4y - 2)(2y^2 - y + 3) $\n",
    "\n",
    "    \n",
    "-    $ (\\frac{2}{3}p^3 - 3p^2 + \\frac{6}{4}p - \\frac{2}{3}) - (p^3 + p^2 - 4p + 7) $\n",
    "\n",
    "\n",
    "-    $ \\left(3x^3 + 2x^2 - x + 5\\right) + \\left(2x^3 - 4x + 3\\right) \\cdot \\left(x - 2\\right) $\n",
    "\n",
    "-    $ \\left(x^2 + 4x - 3\\right) \\cdot \\left(2x^2 - x + 1\\right) + \\left(3x^3 - 2x + 4\\right) $\n",
    "\n",
    "-    $ \\left(4a^3 - a^2 + a - 2\\right) + \\left(3a^2 - 5a + 1\\right) \\cdot \\left(a + 3\\right) $\n",
    "\n",
    "-    $ \\left(2b^4 - 3b^2 + b - 4\\right) \\cdot \\left(b^2 + 2b - 1\\right) + \\left(5b^3 - 2b + 3\\right) $\n",
    "\n",
    "\n",
    "-    $ \\left(5x^3 + 3x^2 - x + 6\\right) + \\left(2x^4 - 3x^2 + x - 4\\right) \\cdot \\left(x - 1\\right) $\n",
    "\n",
    "\n",
    "-    $ \\left(3y^3 - y^2 + 2y - 1\\right) \\cdot \\left(y^3 + y^2 - y + 2\\right) + \\left(4y^4 - 2y + 5\\right) $\n",
    "\n",
    "\n",
    "-    $ \\left(7p^2 - 2p + 5\\right) + \\left(3p^3 - p + 4\\right) \\cdot \\left(p^2 + 3\\right) $\n",
    "\n",
    "\n",
    "-    $ \\left(4m^3 - m^2 + 2m - 3\\right) \\cdot \\left(m^2 - 2m + 1\\right) + \\left(2m^4 + m - 6\\right) $\n",
    "\n",
    "\n",
    "-    $ \\left(6c^3 - 2c + 7\\right) + \\left(3c^2 + 4c - 5\\right) \\cdot \\left(c - 2\\right) $\n",
    "\n",
    "\n",
    "-    $ \\left(2n^4 - 3n^2 + n - 8\\right) \\cdot \\left(n^3 + n^2 - n + 4\\right) + \\left(5n^3 - 4n + 9\\right) $\n"
   ]
  }
 ],
 "metadata": {
  "kernelspec": {
   "display_name": "Python 3 (ipykernel)",
   "language": "python",
   "name": "python3"
  },
  "language_info": {
   "codemirror_mode": {
    "name": "ipython",
    "version": 3
   },
   "file_extension": ".py",
   "mimetype": "text/x-python",
   "name": "python",
   "nbconvert_exporter": "python",
   "pygments_lexer": "ipython3",
   "version": "3.12.3"
  }
 },
 "nbformat": 4,
 "nbformat_minor": 4
}
