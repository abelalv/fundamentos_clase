{
 "cells": [
  {
   "cell_type": "markdown",
   "metadata": {},
   "source": [
    "**Ejercicios**\n",
    "\n",
    "Taller 1\n",
    "\n"
   ]
  },
  {
   "cell_type": "markdown",
   "metadata": {},
   "source": [
    "**Simplifique las expresiones:**\n",
    "\n",
    "+ $\\left(\\frac{3}{4} + \\frac{5}{6}\\right)$\n",
    "\n",
    "+  $\\left(\\frac{2}{3} \\times \\frac{4}{5}\\right)$.\n",
    "\n",
    "+ $\\left(\\frac{7}{8} \\div \\frac{2}{3}\\right)$.\n",
    "\n",
    "+ $\\left(\\frac{5}{6} - \\frac{1}{4}\\right)\\times\\left(\\frac{7}{8} \\div \\frac{2}{3}\\right) $.\n",
    "\n",
    "+ $\\left(\\frac{3}{5} + \\frac{2}{7} - \\frac{1}{2}\\Big(\\frac{7}{8} \\div \\frac{2}{3}\\Big)\\right)$.\n",
    "\n",
    "+ $\\left(\\frac{4}{9} \\times \\frac{3}{8} \\div \\frac{2}{3}\\right)$.\n",
    "\n",
    "+ $\\left(\\frac{5}{12} + \\frac{3}{8} \\times \\frac{2}{5} - \\frac{1}{6}\\right)$."
   ]
  },
  {
   "cell_type": "markdown",
   "metadata": {},
   "source": [
    "+ En un proyecto de construcción, se necesitan dos tipos de madera. Se requieren $\\frac{5}{8}$ de una tonelada de madera de pino y $\\frac{3}{4}$ de una tonelada de madera de roble. ¿Cuál es el total de madera necesaria para el proyecto?\n",
    "\n",
    "+ Un agricultor tiene un campo rectangular donde $\\frac{2}{3}$ del campo está plantado con maíz y $\\frac{4}{5}$ del área plantada con maíz está produciendo espigas. ¿Qué fracción del campo total está produciendo espigas?\n",
    "\n",
    "+ En una fábrica, se producen $\\frac{7}{9}$ de un lote de productos en una máquina A y $\\frac{2}{3}$ de lo que produce la máquina A pasa a la máquina B para ser finalizado. ¿Qué fracción del lote total es finalizado por la máquina B?\n",
    "\n",
    "+ En un laboratorio, se están mezclando dos soluciones químicas. La primera solución tiene un volumen de $\\frac{3}{4}$ litros y una concentración de $2.5 \\times 10^{-3}$ moles por litro. La segunda solución tiene un volumen de $\\frac{5}{6}$ litros y una concentración de $3.0 \\times 10^{-3}$ moles por litro. \n",
    "\n",
    "    Después de mezclar las dos soluciones:\n",
    "\n",
    "    1. ¿Cuál es el volumen total de la mezcla?\n",
    "\n",
    "    2. ¿Cuál es la concentración total de moles en la mezcla si se asume que los volúmenes son aditivos y las concentraciones se suman directamente?\n"
   ]
  },
  {
   "cell_type": "markdown",
   "metadata": {},
   "source": [
    "**Ejercicios de Notación Científica**\n",
    "\n",
    "+ Convierte el número 450,000 a notación científica.\n",
    "+ Convierte el número 0.00078 a notación científica.\n",
    "+ Convierte el número 32,000,000 a notación científica.\n",
    "+ Convierte el número 0.000056 a notación científica.\n",
    "+ Convierte el número 9,750 a notación científica.\n",
    "+ Convierte el número 0.01234 a notación científica.\n",
    "+ Convierte el número 5,400,000,000 a notación científica.\n",
    "+ Convierte el número 0.00000089 a notación científica.\n",
    "+ Convierte el número 234,000 a notación científica.\n",
    "+ Convierte el número 0.0000456 a notación científica.\n",
    "+ Convierte el número racional $\\frac{3}{5000}$ a notación científica.\n",
    "+ Convierte el número racional $\\frac{45}{100000}$ a notación científica.\n",
    "+ Convierte el número racional $\\frac{123}{1000}$ a notación científica.\n"
   ]
  },
  {
   "cell_type": "markdown",
   "metadata": {},
   "source": [
    "\n",
    "+ La masa de la Tierra es aproximadamente $5.97 \\times 10^{24}$ kg, y la masa de la Luna es aproximadamente $7.35 \\times 10^{22}$ kg. ¿Cuál es el producto de sus masas?\n",
    "\n",
    "+ La distancia media desde la Tierra al Sol es aproximadamente $1.496 \\times 10^8$ km, y la distancia media desde la Tierra a Marte es aproximadamente $2.279 \\times 10^8$ km. ¿Cuál es la distancia total al sumar ambas distancias?\n",
    "\n",
    "+ La velocidad de la luz en el vacío es aproximadamente $3 \\times 10^8$ m/s. ¿Cuál es la distancia que recorre la luz en un año (considerando 1 año = $3.156 \\times 10^7$ segundos)?\n"
   ]
  },
  {
   "cell_type": "markdown",
   "metadata": {},
   "source": []
  }
 ],
 "metadata": {
  "language_info": {
   "name": "python"
  }
 },
 "nbformat": 4,
 "nbformat_minor": 2
}
